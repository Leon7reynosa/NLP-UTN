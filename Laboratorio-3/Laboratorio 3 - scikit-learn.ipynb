{
 "cells": [
  {
   "cell_type": "markdown",
   "metadata": {},
   "source": [
    "<h1 style=\"color:rgb(138,0,3)\">Laboratorio 3</h1>\n",
    "<h3>Procesando\tTexto\ty\tusando\tscikit-learn</h3>"
   ]
  },
  {
   "cell_type": "markdown",
   "metadata": {},
   "source": [
    "<p style=\"color:rgb(0,1,84)\">Alumno: Leon Lautaro Reynosa</p>"
   ]
  },
  {
   "cell_type": "markdown",
   "metadata": {},
   "source": [
    "<p style=\"color:rgb(0,1,84)\">Legajo: 163262-0</p>"
   ]
  },
  {
   "cell_type": "markdown",
   "metadata": {},
   "source": [
    "<p style=\"color:rgb(0,1,84)\">Profesor: Hernan Borre</p>"
   ]
  },
  {
   "cell_type": "markdown",
   "metadata": {},
   "source": [
    "<p style=\"color:rgb(0,1,84)\">Materia: Procesamiento del Lenguaje Natural  (K3572) </p>"
   ]
  },
  {
   "cell_type": "markdown",
   "metadata": {},
   "source": [
    "<h3 style=\"color:rgb(0,84,139)\">1. Procesamiento\tde\ttexto\tbásico\tcon\tSciKit-learn</h3>"
   ]
  },
  {
   "cell_type": "markdown",
   "metadata": {},
   "source": [
    "<p>SciKit-learn\tes\tuna\tbiblioteca\tde\tPython\tde\tcódigo\tabierto\tpara\tel\taprendizaje\tde\t\n",
    "máquinas que\tviene\tcon\tinstalaciones\tbásicas\tpara\tel\tprocesamiento\tde\ttexto\tpara\t\n",
    "apoyar\tel\tagrupamiento\ty\tclasificación\t- incluyendo\ttokenización,\tconteo\tde\t\n",
    "palabras,\ty\tsteamming\t(obtener\tla\tforma\traíz\tde\tlas\tpalabras).\t</p>"
   ]
  },
  {
   "cell_type": "markdown",
   "metadata": {},
   "source": [
    "<p>En\teste lab\tpráctico\tvamos\ta\trevisar\tbrevemente\tcómo\tutilizar\tSciKit-learn\ten\t\n",
    "Python\t\ty\tluego\tobservar\tcon\tmás\tdetalle\ten\tlas\tinstalaciones\tde\tprocesamiento\t\n",
    "previo.</p>"
   ]
  },
  {
   "cell_type": "markdown",
   "metadata": {},
   "source": [
    "<h3 style=\"color:rgb(0,84,139)\">2. El uso\tde\tSciKit-learn</h3>"
   ]
  },
  {
   "cell_type": "markdown",
   "metadata": {},
   "source": [
    "<p>Previamente a esto, en nuestro enviroment (No en Python) debemos incluir las bibliotecas siguientes:</p>\n",
    "<p style=\"color: red\">conda install -c anaconda scikit-learn</p>\n",
    "<p style=\"color: red\">conda install matplotlib</p>\n",
    "    \n",
    "      "
   ]
  },
  {
   "cell_type": "markdown",
   "metadata": {},
   "source": [
    "<p>cargamos\tscikit-learn\ty\tnumpy en\tPython</p>"
   ]
  },
  {
   "cell_type": "code",
   "execution_count": 1,
   "metadata": {},
   "outputs": [],
   "source": [
    "import sklearn"
   ]
  },
  {
   "cell_type": "code",
   "execution_count": 2,
   "metadata": {},
   "outputs": [],
   "source": [
    "import numpy as np"
   ]
  },
  {
   "cell_type": "code",
   "execution_count": 3,
   "metadata": {},
   "outputs": [],
   "source": [
    "import matplotlib.pyplot as plt"
   ]
  },
  {
   "cell_type": "markdown",
   "metadata": {},
   "source": [
    "<p>A\tcontinuación,\tdebe\tcrear\talgunos\tdatos\tpara\tvisualizar\t– ej.,\tuna\tmatriz\t\n",
    "bidimensional\tque\trepresenta\tuna\tfunción</p>"
   ]
  },
  {
   "cell_type": "code",
   "execution_count": 4,
   "metadata": {},
   "outputs": [],
   "source": [
    "data = np.array([[1,2], [2,3], [3,4], [4,5], [5,6]])"
   ]
  },
  {
   "cell_type": "code",
   "execution_count": 5,
   "metadata": {},
   "outputs": [],
   "source": [
    "x = data[:,0]"
   ]
  },
  {
   "cell_type": "code",
   "execution_count": 6,
   "metadata": {},
   "outputs": [],
   "source": [
    "y= data[:,1]"
   ]
  },
  {
   "cell_type": "markdown",
   "metadata": {},
   "source": [
    "<p>Ahora\tpuede\tvisualizar\tla\tfunción\tde\tla\tsiguiente\tmanera:</p>"
   ]
  },
  {
   "cell_type": "code",
   "execution_count": 10,
   "metadata": {},
   "outputs": [
    {
     "data": {
      "image/png": "[encoded data removed]",
      "text/plain": [
       "<Figure size 432x288 with 1 Axes>"
      ]
     },
     "metadata": {
      "needs_background": "light"
     },
     "output_type": "display_data"
    }
   ],
   "source": [
    "plt.scatter(x,y)\n",
    "plt.grid(True)\n",
    "plt.show()"
   ]
  },
  {
   "cell_type": "markdown",
   "metadata": {},
   "source": [
    "<h3 style=\"color:rgb(0,84,139)\">3.\tPreprocesamiento\tde\tTexto\tcon\tSciKit-learn</h3>"
   ]
  },
  {
   "cell_type": "markdown",
   "metadata": {},
   "source": [
    "<p>Muchas\tde\tlas\taplicaciones\tde\tanálisis\tde\ttexto\tque\tvamos\ta\tconsiderar\trequerir\t\n",
    "tomar\tun\ttexto\t(por\tejemplo,\tun\tpost),\ttokenizar,\ty\tutilizando\tlos\ttokens\tcomo\t\n",
    "features,\tposiblemente\tdespués\tde\tla\teliminación\tde\tpalabras\tcon\tlematización\t/\t\n",
    "stops\twords.\tCon\tSciKit-learn\tno\tnecesitamos\tescribir\tcódigo\tpara\thacer\teso;\t\n",
    "podemos\tutilizar\tla\tclase\tCountVectorizer\ten\tsu\tlugar.\tUna\tinstancia\tde\tla\tclase\t\n",
    "se\tcrea\tde\tla\tsiguiente\tmanera:</p>"
   ]
  },
  {
   "cell_type": "code",
   "execution_count": 12,
   "metadata": {},
   "outputs": [],
   "source": [
    "from sklearn.feature_extraction.text import CountVectorizer"
   ]
  },
  {
   "cell_type": "code",
   "execution_count": 13,
   "metadata": {},
   "outputs": [],
   "source": [
    "vectorizer = CountVectorizer(min_df=1)"
   ]
  },
  {
   "cell_type": "markdown",
   "metadata": {},
   "source": [
    "<p>Una\tvez\tque\themos\tcreado\tla\tinstancia,\tpodemos\tutilizarlo\tpara\textraer\tuna\tbolsa\tde\t\n",
    "palabras</p>"
   ]
  },
  {
   "cell_type": "markdown",
   "metadata": {},
   "source": [
    "<p>la\trepresentación\tde\tuna\tcolección\tde\tdocumentos\tutilizando\tel\tmétodo\tscikit-learn\n",
    "fit_transform.\tEn\teste\tprimer\tejemplo\tde\tprueba,\tusamos\tuna\tlista\tde\tcadenas\tcomo\t\n",
    "documentos,\tde\tla\tsiguiente\tmanera:</p>"
   ]
  },
  {
   "cell_type": "code",
   "execution_count": 14,
   "metadata": {},
   "outputs": [],
   "source": [
    "content = [\"How to format my hard disk\", \" Hard disk format problems \"]\n",
    "X = vectorizer.fit_transform(content)"
   ]
  },
  {
   "cell_type": "markdown",
   "metadata": {},
   "source": [
    "<p>fit_transform ha\textraído\tsiete\tcaracterísticas\tde\tlos\tdos\t“documentos”;\t\n",
    "podemos\tver\teso\tcon\tel\tmétodo\tget_feature_names().</p>"
   ]
  },
  {
   "cell_type": "code",
   "execution_count": 15,
   "metadata": {},
   "outputs": [
    {
     "data": {
      "text/plain": [
       "['disk', 'format', 'hard', 'how', 'my', 'problems', 'to']"
      ]
     },
     "execution_count": 15,
     "metadata": {},
     "output_type": "execute_result"
    }
   ],
   "source": [
    "vectorizer.get_feature_names()"
   ]
  },
  {
   "cell_type": "markdown",
   "metadata": {},
   "source": [
    "<p>Se\tpuede\tver\tcuántas\tveces\tcada\tuna\tde\testas\tsiete\tfeatures se\tproduce\ten\t\n",
    "los\tdos\tdocumentos\thaciendo:</p>"
   ]
  },
  {
   "cell_type": "code",
   "execution_count": 16,
   "metadata": {},
   "outputs": [
    {
     "data": {
      "text/plain": [
       "array([[1, 1, 1, 1, 1, 0, 1],\n",
       "       [1, 1, 1, 0, 0, 1, 0]], dtype=int64)"
      ]
     },
     "execution_count": 16,
     "metadata": {},
     "output_type": "execute_result"
    }
   ],
   "source": [
    "X.toarray()"
   ]
  },
  {
   "cell_type": "markdown",
   "metadata": {},
   "source": [
    "<p>Tenga\ten\tcuenta\tque\testa\tllamada\tdevuelve\tuna\tmatriz\tde\tdos\tfilas,\tuna\tpor\t\n",
    "`documentos'.\tCada\tfila\tde\tsiete\telementos.\tCada\telemento\tespecifica\tel\tnúmero\t\n",
    "de\telementos\tde\tuna\tdeterminada\tfeature\tse\tprodujo\ten\tese\tdocumento.\t\n",
    "Entonces:</p>"
   ]
  },
  {
   "cell_type": "code",
   "execution_count": 17,
   "metadata": {},
   "outputs": [
    {
     "data": {
      "text/plain": [
       "array([1, 1, 1, 1, 1, 0, 1], dtype=int64)"
      ]
     },
     "execution_count": 17,
     "metadata": {},
     "output_type": "execute_result"
    }
   ],
   "source": [
    "X.toarray()[0]"
   ]
  },
  {
   "cell_type": "markdown",
   "metadata": {},
   "source": [
    "<p>nos\tda\tel\tvector\tsolo\tpara\tel\tprimer\tdocumento\t(“How to format my hard disk\"),\n",
    "que\tcontiene\ttodas\tlas\tpalabras\telegidas\tcomo\tlas\tfunciones,\texcepto\tpara\tlos\t\n",
    "'problemas'.\tEn turno</p>"
   ]
  },
  {
   "cell_type": "code",
   "execution_count": 18,
   "metadata": {},
   "outputs": [
    {
     "data": {
      "text/plain": [
       "1"
      ]
     },
     "execution_count": 18,
     "metadata": {},
     "output_type": "execute_result"
    }
   ],
   "source": [
    "X.toarray\t()\t[1,2]"
   ]
  },
  {
   "cell_type": "markdown",
   "metadata": {},
   "source": [
    "<p>nos\tda\tel\tnúmero\tde\tveces\tque\tla\tpalabra\t‘hard’ que\tocurre\ten\tel\tsegundo\tdocumento.</p>"
   ]
  },
  {
   "cell_type": "markdown",
   "metadata": {},
   "source": [
    "<p>Veamos\tahora\tcómo\tfunciona\testo\tcon\tuna\tverdadera\tcolección\tde\tdocumentos</p>"
   ]
  },
  {
   "cell_type": "markdown",
   "metadata": {},
   "source": [
    "<p>Vamos\ta\tutilizar\tlos\tdatos\tdel\tdataset\t‘20\tNewsgroups’,\tque\tes\tuna\tcolección\tde\t\n",
    "alrededor\tde\t20.000\tdocumentos\tprocedentes\tde\t20\tgrupos\tde\tnoticias\tdiferentes,\tque\t\n",
    "se\tutiliza\tcomúnmente\ten\texperimentos\tde\tclasificación\tde\ttexto\ty\tla\tagrupación\tde\t\n",
    "texto.\t</p>"
   ]
  },
  {
   "cell_type": "markdown",
   "metadata": {},
   "source": [
    "<p>El\tset\tde\tdatos\tse\tpuede\tencontrar\ten:\n",
    "http://qwone.com/~jason/20Newsgroups/</p>"
   ]
  },
  {
   "cell_type": "markdown",
   "metadata": {},
   "source": [
    "<p>Pero\tya\testá\tincluido\ten\tscikit-learn\ty\tse\tpuede\tcargar\ten\tPython\thaciendo:</p>"
   ]
  },
  {
   "cell_type": "code",
   "execution_count": 19,
   "metadata": {},
   "outputs": [],
   "source": [
    " from sklearn.datasets import fetch_20newsgroups"
   ]
  },
  {
   "cell_type": "markdown",
   "metadata": {},
   "source": [
    "<p>Para\tacelerar\tlas\tcosas,\ten\tel\tresto\tdel\tlaboratorio\tsólo\tutilizaremos\tun\tsubconjunto\t\n",
    "de\tlos\tdocumentos,\tlos\tque\tpertenecen\ta\tlas\tsiguientes\t4\tcategorías:</p>"
   ]
  },
  {
   "cell_type": "code",
   "execution_count": 20,
   "metadata": {},
   "outputs": [],
   "source": [
    "categories = ['alt.atheism', 'soc.religion.christian', 'comp.graphics','sci.med']"
   ]
  },
  {
   "cell_type": "markdown",
   "metadata": {},
   "source": [
    "<p>Podemos\timportar\tlos\tdocumentos\tpertenecientes\ta\tlas\tcategorías\tde\tla\tsiguiente\t\n",
    "manera:</p>"
   ]
  },
  {
   "cell_type": "code",
   "execution_count": 22,
   "metadata": {},
   "outputs": [],
   "source": [
    " twenty_train = fetch_20newsgroups(subset='train', categories=categories,shuffle=True, random_state=42)"
   ]
  },
  {
   "cell_type": "markdown",
   "metadata": {},
   "source": [
    "<p>(La\tprimera\tvez\tque\tse\thace\testo,\tse\tva\ta\ttomar\tun\ttiempo,\tno\tte preocupes.\tTambién\tes\t\n",
    "posible\tque\tpuedas\trecibir\tun mensaje\tde\talerta\tacerca\tde\tno\tencontrar\tlos\t\n",
    "controladores,\tignoralo)\t</p>"
   ]
  },
  {
   "cell_type": "markdown",
   "metadata": {},
   "source": [
    "<p>Los\tarchivos\than\tsido\tcargados\ten\tel\tatributo\t‘data’\tdel\tobjeto\ttwenty_train</p>"
   ]
  },
  {
   "cell_type": "markdown",
   "metadata": {},
   "source": [
    "<p>Vamos\tahora\ta\tcrear\tun\tnuevo\tobjeto\tCountVectorizer:</p>"
   ]
  },
  {
   "cell_type": "code",
   "execution_count": 23,
   "metadata": {},
   "outputs": [],
   "source": [
    "from sklearn.feature_extraction.text import CountVectorizer"
   ]
  },
  {
   "cell_type": "code",
   "execution_count": 24,
   "metadata": {},
   "outputs": [],
   "source": [
    "vectorizer = CountVectorizer()"
   ]
  },
  {
   "cell_type": "markdown",
   "metadata": {},
   "source": [
    "<p>Una\tvez\tmás,\tla función fit_transform\tse\tpuede\tutilizar\tpara\ttokenizar\tcada\t\n",
    "documento,\tidentificar\tlas\tpalabras\tmás\trelevantes,\tconstruir\tun\tdiccionario\tde\t\n",
    "tales\tpalabras,\ty\tcrear\tpara\tcada\tdocumento\tuna\trepresentación\tvectorial\ten\tel\tque\t\n",
    "las\tpalabras\tson\tlas\tfeatures y\tel\tvalor\tde\testas\tcaracterísticas\tes\tel\tnúmero\tde\t\n",
    "ocurrencias de\tcada\tpalabra\ten\tun\tdocumento.</p>"
   ]
  },
  {
   "cell_type": "markdown",
   "metadata": {},
   "source": [
    "<p>Al\tigual\tque\ten\tel\tejemplo\tde\tprueba\tanterior:</p>"
   ]
  },
  {
   "cell_type": "code",
   "execution_count": 25,
   "metadata": {},
   "outputs": [],
   "source": [
    "train_counts = vectorizer.fit_transform(twenty_train.data)"
   ]
  },
  {
   "cell_type": "markdown",
   "metadata": {},
   "source": [
    "<p>Por\tejemplo,\tsi\tahora\tqueremos\tver\tla\tfrecuencia\tde la\tpalabra\t'algorithm'\t\n",
    "se\tproduce\ten\tel\tsubconjunto\tde\tla\tcolección\t20Newgroups\testamos\t\n",
    "considerando\tla\tsiguiente\tmanera:</p>"
   ]
  },
  {
   "cell_type": "code",
   "execution_count": 26,
   "metadata": {},
   "outputs": [
    {
     "data": {
      "text/plain": [
       "4690"
      ]
     },
     "execution_count": 26,
     "metadata": {},
     "output_type": "execute_result"
    }
   ],
   "source": [
    " vectorizer.vocabulary_.get('algorithm')"
   ]
  },
  {
   "cell_type": "markdown",
   "metadata": {},
   "source": [
    "<h4>Qué\tfrecuencia\tes\tla\tque\tobtuviste?</h4>"
   ]
  },
  {
   "cell_type": "markdown",
   "metadata": {},
   "source": [
    "<p>Respuesta: Obtuvo una frecuencia de 4690</p>"
   ]
  },
  {
   "cell_type": "markdown",
   "metadata": {},
   "source": [
    "<p>Para\tver\tcuántos\ttérminos\tfueron\textraídos,\tpodemos\tutilizar\tget_feature_names\t()\n",
    "que\themos\tvisto\tanteriormente:</p>"
   ]
  },
  {
   "cell_type": "code",
   "execution_count": 27,
   "metadata": {},
   "outputs": [
    {
     "data": {
      "text/plain": [
       "35788"
      ]
     },
     "execution_count": 27,
     "metadata": {},
     "output_type": "execute_result"
    }
   ],
   "source": [
    "len(vectorizer.get_feature_names())"
   ]
  },
  {
   "cell_type": "markdown",
   "metadata": {},
   "source": [
    "<p>La\tclase\tCountVectorizer\t\tde\tSciKit-learn\t puede\thacer\tmás\t\n",
    "procesamiento\tprevio\tde\tuna\tcolección\tde\tdocumentos\tque\tsimples\n",
    "tokenizaciones.\t</p>"
   ]
  },
  {
   "cell_type": "markdown",
   "metadata": {},
   "source": [
    "<p>Una\timportante\tetapa\tde\tpreprocesamiento\tadicional\tde\tque\tla\tclase\t\n",
    "puede\tllevar\ta\tcabo\tes\tla\teliminación\tde\tstop\twords.\t</p>"
   ]
  },
  {
   "cell_type": "markdown",
   "metadata": {},
   "source": [
    "<p>Esto\tse\tpuede\thacer\tmediante\tla\tespecificación\tde\tun\tparámetros\tde\t\n",
    "CountVectorizer, como\tsigue:</p>"
   ]
  },
  {
   "cell_type": "code",
   "execution_count": 31,
   "metadata": {},
   "outputs": [],
   "source": [
    "vectorizer = CountVectorizer(stop_words='english')"
   ]
  },
  {
   "cell_type": "markdown",
   "metadata": {},
   "source": [
    "<p>(Pista:\tsi\tponen\t‘spanish’\tconsiderará\tlas\tstop\twords o\tpalabras\tmás\tcomunes\ty\t\n",
    "puntuaciones\tdel\tespañol,\ty\tasí\tcon\totros\tidiomas)\t</p>"
   ]
  },
  {
   "cell_type": "markdown",
   "metadata": {},
   "source": [
    "<p>Para\tver\tqué\tpalabras\tson\tpalabras\tstop\twords,\thace\tlo\tsiguiente:</p>"
   ]
  },
  {
   "cell_type": "code",
   "execution_count": 32,
   "metadata": {},
   "outputs": [
    {
     "data": {
      "text/plain": [
       "['a',\n",
       " 'about',\n",
       " 'above',\n",
       " 'across',\n",
       " 'after',\n",
       " 'afterwards',\n",
       " 'again',\n",
       " 'against',\n",
       " 'all',\n",
       " 'almost',\n",
       " 'alone',\n",
       " 'along',\n",
       " 'already',\n",
       " 'also',\n",
       " 'although',\n",
       " 'always',\n",
       " 'am',\n",
       " 'among',\n",
       " 'amongst',\n",
       " 'amoungst']"
      ]
     },
     "execution_count": 32,
     "metadata": {},
     "output_type": "execute_result"
    }
   ],
   "source": [
    "sorted(vectorizer.get_stop_words())[:20]"
   ]
  },
  {
   "cell_type": "markdown",
   "metadata": {},
   "source": [
    "<p>Para\thacer\tstemming\t(tener\tla\tpalabra\traíz)\ty un pre-procesamiento\t\n",
    "más\tavanzado,\tnecesitamos\tcomplementar\tSciKit-learn\tcon\totra\t\n",
    "biblioteca\tde\tpython,\tNLTK.\t</p>"
   ]
  },
  {
   "cell_type": "markdown",
   "metadata": {},
   "source": [
    "<h3 style=\"color:rgb(0,84,139)\">4.\tPre-procesamiento\tmás\tavanzado\tcon\tNLTK</h3>"
   ]
  },
  {
   "cell_type": "markdown",
   "metadata": {},
   "source": [
    "<p>NLKT\tes\tcompatible\tcon\tla\tmayoría\tde\tlos\ttipos\tde\tprocesamiento previo\n",
    ",\tdesde\tPOS\ttagging\tpara\tfragmentar,\tpara Inglés. También\tviene\tcon\t\n",
    "varios\trecursos\tútiles\tcomo\tcorpus\ty\tel\tléxico.</p>"
   ]
  },
  {
   "cell_type": "markdown",
   "metadata": {},
   "source": [
    "<p>NLTK\tes\tuna\tbiblioteca\tenorme,\tmucho\tmás\tgrande\tque\tSciKit-learn\tde\thecho,\t\n",
    "ya\tque\tcontiene\ttambién\tsu\tpropia\timplementación\tde\tmuchos\talgoritmos\tde\t\n",
    "aprendizaje\tautomático.\t</p>"
   ]
  },
  {
   "cell_type": "markdown",
   "metadata": {},
   "source": [
    "<p>\tSólo\tvamos\ta\ttratar\tacá\ten\teste\tcurso\tde\tsus\t\n",
    "funcionalidades</p>"
   ]
  },
  {
   "cell_type": "code",
   "execution_count": 34,
   "metadata": {},
   "outputs": [],
   "source": [
    " import nltk"
   ]
  },
  {
   "cell_type": "markdown",
   "metadata": {},
   "source": [
    "<p>El\tsteamming\ten\t NLTK incluye\timplementaciones\tde\tvarios algoritmos\n",
    "muy\tconocidos y\tutilizados, incluyendo\tel\tPorter\tStemmer\ty\tel\tLancaster\n",
    "Stemmer</p>"
   ]
  },
  {
   "cell_type": "markdown",
   "metadata": {},
   "source": [
    "<h4>Para\tcrear\tun steammer\tde\tInglés\tque\ttiene\tque\thacer\tlo siguiente:</h4>"
   ]
  },
  {
   "cell_type": "code",
   "execution_count": 36,
   "metadata": {},
   "outputs": [],
   "source": [
    "s = nltk.stem.SnowballStemmer('english')"
   ]
  },
  {
   "cell_type": "markdown",
   "metadata": {},
   "source": [
    "<h4>Después\tde\tcrear\tel\tsteammer,\ta\tcontinuación,\tpuede\tutilizarlo\tpara\tllevar\ta\tla\t\n",
    "raíz\t(steam) palabras\tde\tla\tsiguiente\tmanera:</h4>"
   ]
  },
  {
   "cell_type": "code",
   "execution_count": 37,
   "metadata": {},
   "outputs": [
    {
     "data": {
      "text/plain": [
       "'cat'"
      ]
     },
     "execution_count": 37,
     "metadata": {},
     "output_type": "execute_result"
    }
   ],
   "source": [
    "s.stem(\"cats\")"
   ]
  },
  {
   "cell_type": "code",
   "execution_count": 38,
   "metadata": {},
   "outputs": [
    {
     "data": {
      "text/plain": [
       "'love'"
      ]
     },
     "execution_count": 38,
     "metadata": {},
     "output_type": "execute_result"
    }
   ],
   "source": [
    "s.stem(\"loving\")"
   ]
  },
  {
   "cell_type": "markdown",
   "metadata": {},
   "source": [
    "<h4>Otros\ttipos\tde\tpre-procesamiento\tde\tNLTK\tincluye\timplementaciones\tde\t\n",
    "muchos\tde\tlos\tmódulos\tde\tprocesamiento previo\ty\tanalizadores\t\n",
    "sintácticos\tque\tdiscutimos\to\tdiscutiremos\ten\tlas clases:\n",
    "    - identificadores\tde\tidioma\n",
    "    - tokenizers\tpara\tvarios\tidiomas\n",
    "    - divisores\tde\toraciones\n",
    "    - POS\ttaggers\n",
    "    - Chunkers\n",
    "    - Parsers\t</h4>"
   ]
  },
  {
   "cell_type": "markdown",
   "metadata": {},
   "source": [
    "<p>Además,\tNLTK\tincluye\timplementaciones\tde\tlos\taspectos\tdel\tanálisis\tde\ttexto\t\n",
    "que\tvamos\ta\tdiscutir\ten\teste\tmódulo,\tincluyendo\n",
    "- NER\t(Named\tEntity\tRecognition)\n",
    "- Análisis\tde\tlos\tsentimientos\n",
    "- Extraer\tinformación\tde\tlos\tmedios\tde\tredes sociales</p>"
   ]
  },
  {
   "cell_type": "markdown",
   "metadata": {},
   "source": [
    "<p>Por\tejemplo,\tlas\tinstrucciones\tsiguientes\t(\tpuede\tque\ttengas que\tdescargar\tel\tpaquete\t NLTK\t'punkt'\tpara\thacer\testo)</p>"
   ]
  },
  {
   "cell_type": "code",
   "execution_count": 39,
   "metadata": {},
   "outputs": [],
   "source": [
    " from nltk.tokenize import word_tokenize"
   ]
  },
  {
   "cell_type": "code",
   "execution_count": 43,
   "metadata": {},
   "outputs": [],
   "source": [
    "#nltk.download('punkt') #if not used nltk.download()"
   ]
  },
  {
   "cell_type": "code",
   "execution_count": 44,
   "metadata": {},
   "outputs": [],
   "source": [
    " text = word_tokenize(\"And now for something completely different\")"
   ]
  },
  {
   "cell_type": "markdown",
   "metadata": {},
   "source": [
    "<p>producir\tuna\tversión\ttokenizada\tde\tla\tfrase,\tque\tluego\tpuede\tser\talimentado\ten\tel\t\n",
    "etiquetador\tPOS\t(\tpuede\tque tenga\tque\tdescargar\tel\tpaquete\t'\tmaxent_...'\tpara\thacer\t\n",
    "esto)</p>"
   ]
  },
  {
   "cell_type": "code",
   "execution_count": 46,
   "metadata": {},
   "outputs": [
    {
     "data": {
      "text/plain": [
       "[('And', 'CC'),\n",
       " ('now', 'RB'),\n",
       " ('for', 'IN'),\n",
       " ('something', 'NN'),\n",
       " ('completely', 'RB'),\n",
       " ('different', 'JJ')]"
      ]
     },
     "execution_count": 46,
     "metadata": {},
     "output_type": "execute_result"
    }
   ],
   "source": [
    "#nltk.download('averaged_perceptron_tagger')\n",
    "#nltk.download('maxent_treebank_pos_tagger')\n",
    "nltk.pos_tag(text)"
   ]
  },
  {
   "cell_type": "markdown",
   "metadata": {},
   "source": [
    "<h3 style=\"color:rgb(0,84,139)\">5. La\tintegración\tel\tsteammer\tde\tNLTK\tcon\tel\tCountVectorizer\tde\tSciKit-learn</h3>"
   ]
  },
  {
   "cell_type": "markdown",
   "metadata": {},
   "source": [
    "<p>El\tsteammer\tde\tNLTK\tpuede\tser\tutilizado\tantes\tde\tla\talimentación\ten\tCountVectorizer\t\n",
    "de SciKit-learn,\tobteniendo\tasí\tun\tíndice\tmás\tcompacto.\t</p>"
   ]
  },
  {
   "cell_type": "markdown",
   "metadata": {},
   "source": [
    "<p>Una\tforma\tde\thacer\testo\tes\tdefinir\tuna\tnueva\tclase\tStemmedCountVectorizer</p>"
   ]
  },
  {
   "cell_type": "markdown",
   "metadata": {},
   "source": [
    "<p>Extendiendo\tde CountVectorizer\ty\tredefiniendo\tel\tmétodo\tbuild_analyzer\t()\n",
    "que\tse\tencarga\tde\tpre-procesamiento\ty\ttokenización:</p>"
   ]
  },
  {
   "cell_type": "markdown",
   "metadata": {},
   "source": [
    "<p>http:\t//\tscikit- learn.org/stable/modules/generated/sklearn.feature_extraction.text.CountVec\n",
    "torizer.html</p>"
   ]
  },
  {
   "cell_type": "markdown",
   "metadata": {},
   "source": [
    "<p>build_analyzer\t()\ttoma\tun\tstring\tcomo\tentrada\ty\tcomo\tsalida\tuna\tlista\tde\ttokens:</p>"
   ]
  },
  {
   "cell_type": "code",
   "execution_count": 47,
   "metadata": {},
   "outputs": [
    {
     "data": {
      "text/plain": [
       "['john', 'bought', 'carrots', 'potatoes']"
      ]
     },
     "execution_count": 47,
     "metadata": {},
     "output_type": "execute_result"
    }
   ],
   "source": [
    "from sklearn.feature_extraction.text import CountVectorizer\n",
    "vectorizer = CountVectorizer(stop_words='english')\n",
    "analyze = vectorizer.build_analyzer()\n",
    "analyze(\"John bought carrots and potatoes\")"
   ]
  },
  {
   "cell_type": "markdown",
   "metadata": {},
   "source": [
    "<p>Si\t modificamos\tbuild_analyzer\t()\tpara\taplicar\t\tel\tsteammer\tde\tNLTK\ta\tla\tsalida\tdel\t\n",
    "método\tbuild_analyzer\t(),\tobtenemos\tuna\tversión\tque\tderiva\tasí:</p>"
   ]
  },
  {
   "cell_type": "code",
   "execution_count": 48,
   "metadata": {},
   "outputs": [],
   "source": [
    "import nltk.stem"
   ]
  },
  {
   "cell_type": "code",
   "execution_count": 49,
   "metadata": {},
   "outputs": [],
   "source": [
    "english_stemmer = nltk.stem.SnowballStemmer('english')"
   ]
  },
  {
   "cell_type": "code",
   "execution_count": 54,
   "metadata": {},
   "outputs": [],
   "source": [
    "class StemmedCountVectorizer(CountVectorizer):\n",
    "    def build_analyzer(self):\n",
    "        analyzer = super(StemmedCountVectorizer, self).build_analyzer()\n",
    "        return lambda doc: (english_stemmer.stem(w) for w in analyzer(doc))"
   ]
  },
  {
   "cell_type": "markdown",
   "metadata": {},
   "source": [
    "<p>Ahora\tPodemos\tcrear\tuna\tinstancia\tde\tnuestra\tclase!\t</p>"
   ]
  },
  {
   "cell_type": "code",
   "execution_count": 55,
   "metadata": {},
   "outputs": [],
   "source": [
    "stem_vectorizer = StemmedCountVectorizer(min_df=1, stop_words='english')"
   ]
  },
  {
   "cell_type": "code",
   "execution_count": 56,
   "metadata": {},
   "outputs": [],
   "source": [
    "stem_analyze = stem_vectorizer.build_analyzer()"
   ]
  },
  {
   "cell_type": "markdown",
   "metadata": {},
   "source": [
    "<p>como\tse\tpuede\tver,\testos\tnuevos\tusos\tVectorizer\tsurgieron\tversiones\tde\tfichas:</p>"
   ]
  },
  {
   "cell_type": "code",
   "execution_count": 57,
   "metadata": {},
   "outputs": [],
   "source": [
    "Y = stem_analyze(\"John bought carrots and potatoes\")"
   ]
  },
  {
   "cell_type": "code",
   "execution_count": 58,
   "metadata": {},
   "outputs": [
    {
     "name": "stdout",
     "output_type": "stream",
     "text": [
      "john\n",
      "bought\n",
      "carrot\n",
      "potato\n"
     ]
    }
   ],
   "source": [
    "for tok in Y:\n",
    "    print(tok)"
   ]
  },
  {
   "cell_type": "markdown",
   "metadata": {},
   "source": [
    "<p>Si\tutilizamos\teste\tVectorizer\tpara\textraer\tfeatures\tpara\tel\tsubconjunto\tdel\t\n",
    "dataset\t20_Newsgroups que\tconsideramos antes,\tvamos\ta\ttener\tun\tmenor\t\n",
    "número\tde\tfeatures:</p>"
   ]
  },
  {
   "cell_type": "code",
   "execution_count": 59,
   "metadata": {},
   "outputs": [],
   "source": [
    " from sklearn.datasets import fetch_20newsgroups"
   ]
  },
  {
   "cell_type": "code",
   "execution_count": 60,
   "metadata": {},
   "outputs": [],
   "source": [
    "categories = ['alt.atheism','soc.religion.christian','comp.graphics', 'sci.med']"
   ]
  },
  {
   "cell_type": "code",
   "execution_count": 61,
   "metadata": {},
   "outputs": [],
   "source": [
    "twenty_train = fetch_20newsgroups(subset='train', categories=categories, shuffle=True, random_state=42)"
   ]
  },
  {
   "cell_type": "code",
   "execution_count": 62,
   "metadata": {},
   "outputs": [],
   "source": [
    "train_counts = stem_vectorizer.fit_transform(twenty_train.data) "
   ]
  },
  {
   "cell_type": "code",
   "execution_count": 63,
   "metadata": {},
   "outputs": [
    {
     "data": {
      "text/plain": [
       "26888"
      ]
     },
     "execution_count": 63,
     "metadata": {},
     "output_type": "execute_result"
    }
   ],
   "source": [
    "len(stem_vectorizer.get_feature_names())"
   ]
  },
  {
   "cell_type": "code",
   "execution_count": null,
   "metadata": {},
   "outputs": [],
   "source": []
  }
 ],
 "metadata": {
  "kernelspec": {
   "display_name": "Python 3",
   "language": "python",
   "name": "python3"
  },
  "language_info": {
   "codemirror_mode": {
    "name": "ipython",
    "version": 3
   },
   "file_extension": ".py",
   "mimetype": "text/x-python",
   "name": "python",
   "nbconvert_exporter": "python",
   "pygments_lexer": "ipython3",
   "version": "3.7.3"
  }
 },
 "nbformat": 4,
 "nbformat_minor": 2
}
