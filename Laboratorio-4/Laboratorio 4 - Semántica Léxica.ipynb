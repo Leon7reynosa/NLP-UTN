{
 "cells": [
  {
   "cell_type": "markdown",
   "metadata": {},
   "source": [
    "<h1 style=\"color:rgb(138,0,3)\">Laboratorio 4</h1>\n",
    "<h3>Semántica Léxica (Lexical Semantic)</h3>"
   ]
  },
  {
   "cell_type": "markdown",
   "metadata": {},
   "source": [
    "<p style=\"color:rgb(0,1,84)\">Alumno: Leon Lautaro Reynosa</p>"
   ]
  },
  {
   "cell_type": "markdown",
   "metadata": {},
   "source": [
    "<p style=\"color:rgb(0,1,84)\">Legajo: 163262-0</p>"
   ]
  },
  {
   "cell_type": "markdown",
   "metadata": {},
   "source": [
    "<p style=\"color:rgb(0,1,84)\">Profesor: Hernan Borre</p>"
   ]
  },
  {
   "cell_type": "markdown",
   "metadata": {},
   "source": [
    "<p style=\"color:rgb(0,1,84)\">Materia: Procesamiento del Lenguaje Natural  (K3572) </p>"
   ]
  },
  {
   "cell_type": "markdown",
   "metadata": {},
   "source": [
    "<h3 style=\"color:rgb(0,84,139)\">1. ¿De que se trata?</h3>"
   ]
  },
  {
   "cell_type": "markdown",
   "metadata": {},
   "source": [
    "<p>Este laboratorio se centra en la semántica léxica y utiliza NLTK para brindarte experiencia\n",
    "práctica con WordNet y realizar la desambiguación del sentido de las palabras.\n",
    "El ejercicio se basa en tutoriales en el sitio web de NLTK\n",
    "http://www.nltk.org/howto/wordnet.html</p>"
   ]
  },
  {
   "cell_type": "markdown",
   "metadata": {},
   "source": [
    "<h3 style=\"color:rgb(0,84,139)\">2. NLTK environment</h3>"
   ]
  },
  {
   "cell_type": "markdown",
   "metadata": {},
   "source": [
    "<p>El\tprimer\tpaso\tes\timportar\tNLTK\ty\talgunos\tcorpus\tcomo\ten\tlos\túltimos\tlaboratorios.\tPara\tllevar\ta\tcabo\t\n",
    "este\tpaso,\tescriba:</p>"
   ]
  },
  {
   "cell_type": "code",
   "execution_count": 1,
   "metadata": {},
   "outputs": [],
   "source": [
    "import nltk"
   ]
  },
  {
   "cell_type": "markdown",
   "metadata": {},
   "source": [
    "<p>En\tel\tcuadro\tde\tdiálogo\tsiguiente,\telija\tel\tlibro\tque\tdescarga\ttodos\tlos\tcorpus\tutilizados\ten\tlos\tejemplos\ten\t\n",
    "el\tlibro\tNLTK1.\tHaga\tclic\ten\tdescargar\ty\tuna\tvez\tque\tfinalice\tla\tdescarga,\tpuede\tcerrar\tel\tcuadro\tde\t\n",
    "diálogo.</p>"
   ]
  },
  {
   "cell_type": "markdown",
   "metadata": {},
   "source": [
    "<p>Puede\timportar\tlos\tcorpus\tescribiendo:</p>"
   ]
  },
  {
   "cell_type": "code",
   "execution_count": 2,
   "metadata": {},
   "outputs": [
    {
     "name": "stdout",
     "output_type": "stream",
     "text": [
      "*** Introductory Examples for the NLTK Book ***\n",
      "Loading text1, ..., text9 and sent1, ..., sent9\n",
      "Type the name of the text or sentence to view it.\n",
      "Type: 'texts()' or 'sents()' to list the materials.\n",
      "text1: Moby Dick by Herman Melville 1851\n",
      "text2: Sense and Sensibility by Jane Austen 1811\n",
      "text3: The Book of Genesis\n",
      "text4: Inaugural Address Corpus\n",
      "text5: Chat Corpus\n",
      "text6: Monty Python and the Holy Grail\n",
      "text7: Wall Street Journal\n",
      "text8: Personals Corpus\n",
      "text9: The Man Who Was Thursday by G . K . Chesterton 1908\n"
     ]
    }
   ],
   "source": [
    "from nltk.book import *"
   ]
  },
  {
   "cell_type": "markdown",
   "metadata": {},
   "source": [
    "<h3 style=\"color:rgb(0,84,139)\">3. Accediendo a WordNet</h3>"
   ]
  },
  {
   "cell_type": "markdown",
   "metadata": {},
   "source": [
    "<p>Podes\timportar\tWordNet\tejecutando:</p>"
   ]
  },
  {
   "cell_type": "code",
   "execution_count": 3,
   "metadata": {},
   "outputs": [],
   "source": [
    "from nltk.corpus import wordnet as wn"
   ]
  },
  {
   "cell_type": "markdown",
   "metadata": {},
   "source": [
    "<p>Como\tvimos en\tlas\tclases,\tWordNet\testá\torganizado\tcomo\tsynsets,\tcada\tsynset\tes\tun\tconjunto\tde\t\n",
    "palabras\tsinónimas.\tUna\tpalabra\taparecerá\ten\tmúltiples\tsynsets\tsi\ttiene\tmúltiples\tsentidos(senses),\tasí\t\n",
    "como\tsi\tpuede\taparecer\ten\tmás\tde\tun\tPOS.\t</p>"
   ]
  },
  {
   "cell_type": "markdown",
   "metadata": {},
   "source": [
    "<p>Por\tejemplo: sustantivo\ty\tverbo.\tPodes recuperar\ttodos\tlos\tsynsets\tasociados\tcon\tuna\tpalabra\tusando\tla\t\n",
    "llamada\tal\tmétodo\tsynsets():</p>"
   ]
  },
  {
   "cell_type": "code",
   "execution_count": 4,
   "metadata": {},
   "outputs": [
    {
     "data": {
      "text/plain": [
       "[Synset('dog.n.01'),\n",
       " Synset('frump.n.01'),\n",
       " Synset('dog.n.03'),\n",
       " Synset('cad.n.01'),\n",
       " Synset('frank.n.02'),\n",
       " Synset('pawl.n.01'),\n",
       " Synset('andiron.n.01'),\n",
       " Synset('chase.v.01')]"
      ]
     },
     "execution_count": 4,
     "metadata": {},
     "output_type": "execute_result"
    }
   ],
   "source": [
    "wn.synsets('dog')"
   ]
  },
  {
   "cell_type": "markdown",
   "metadata": {},
   "source": [
    "<p>Vemos\tque\thay\t7\tsynsets\tde\tsustantivos\ty\t1\tsynset\tde\tverbos\tasociados\tcon\tla\tpalabra\t\"perro\".\tPuede\t\n",
    "restringir\tla\trecuperación\ta\tun\tPOS particular\tutilizando\tel\targumento\tpos.</p>"
   ]
  },
  {
   "cell_type": "code",
   "execution_count": 5,
   "metadata": {},
   "outputs": [
    {
     "data": {
      "text/plain": [
       "[Synset('chase.v.01')]"
      ]
     },
     "execution_count": 5,
     "metadata": {},
     "output_type": "execute_result"
    }
   ],
   "source": [
    "wn.synsets('dog', pos=wn.VERB)"
   ]
  },
  {
   "cell_type": "markdown",
   "metadata": {},
   "source": [
    "<p>Como habrás visto en los ejemplos anteriores, se hace referencia a un conjunto de synset en\n",
    "particular usando una palabra, una etiqueta de POS y un indicador de número.\n",
    "    \n",
    "Como hablamos en clase, los synsets se ordenan según la frecuencia. dog.n.01 es el primer\n",
    "sentido (o el más frecuente) de perro. El segundo sentido de perro se puede denominar\n",
    "dog.n.02.\n",
    "\n",
    "En la salida anterior, el segundo synset se conoce como frump.n.01. Este synset es el mismo\n",
    "que dog.n.02. frump.n.01 solo significa que este synset es también el primer synset para la\n",
    "palabra \"frump\". Pruebe lo siguiente para comprender mejor:</p>"
   ]
  },
  {
   "cell_type": "code",
   "execution_count": 6,
   "metadata": {},
   "outputs": [
    {
     "data": {
      "text/plain": [
       "Synset('dog.n.01')"
      ]
     },
     "execution_count": 6,
     "metadata": {},
     "output_type": "execute_result"
    }
   ],
   "source": [
    "wn.synset('dog.n.01')"
   ]
  },
  {
   "cell_type": "code",
   "execution_count": 7,
   "metadata": {},
   "outputs": [
    {
     "data": {
      "text/plain": [
       "Synset('frump.n.01')"
      ]
     },
     "execution_count": 7,
     "metadata": {},
     "output_type": "execute_result"
    }
   ],
   "source": [
    "wn.synset('dog.n.02')"
   ]
  },
  {
   "cell_type": "code",
   "execution_count": 8,
   "metadata": {},
   "outputs": [
    {
     "data": {
      "text/plain": [
       "Synset('frump.n.01')"
      ]
     },
     "execution_count": 8,
     "metadata": {},
     "output_type": "execute_result"
    }
   ],
   "source": [
    "wn.synset('frump.n.01')"
   ]
  },
  {
   "cell_type": "markdown",
   "metadata": {},
   "source": [
    "<p>Ahora,\tpreguntemosle\ta\tWordNet\tdefiniciones\tde\tcada sentido y los sinónimos\tagrupados\ten\tun\tsynset.</p>"
   ]
  },
  {
   "cell_type": "code",
   "execution_count": 9,
   "metadata": {},
   "outputs": [
    {
     "data": {
      "text/plain": [
       "'a member of the genus Canis (probably descended from the common wolf) that has been domesticated by man since prehistoric times; occurs in many breeds'"
      ]
     },
     "execution_count": 9,
     "metadata": {},
     "output_type": "execute_result"
    }
   ],
   "source": [
    "wn.synset('dog.n.01').definition()"
   ]
  },
  {
   "cell_type": "code",
   "execution_count": 10,
   "metadata": {},
   "outputs": [
    {
     "data": {
      "text/plain": [
       "'a dull unattractive unpleasant girl or woman'"
      ]
     },
     "execution_count": 10,
     "metadata": {},
     "output_type": "execute_result"
    }
   ],
   "source": [
    "wn.synset('dog.n.02').definition()"
   ]
  },
  {
   "cell_type": "code",
   "execution_count": 11,
   "metadata": {},
   "outputs": [
    {
     "data": {
      "text/plain": [
       "'a dull unattractive unpleasant girl or woman'"
      ]
     },
     "execution_count": 11,
     "metadata": {},
     "output_type": "execute_result"
    }
   ],
   "source": [
    "wn.synset('frump.n.01').definition()"
   ]
  },
  {
   "cell_type": "markdown",
   "metadata": {},
   "source": [
    "<p>Los\tsinónimos de\tun\tsynset\tpueden\tser\tobtenidos\tusando\tel\tmétodo\tlemmas().</p>"
   ]
  },
  {
   "cell_type": "code",
   "execution_count": 12,
   "metadata": {},
   "outputs": [
    {
     "data": {
      "text/plain": [
       "[Lemma('dog.n.01.dog'),\n",
       " Lemma('dog.n.01.domestic_dog'),\n",
       " Lemma('dog.n.01.Canis_familiaris')]"
      ]
     },
     "execution_count": 12,
     "metadata": {},
     "output_type": "execute_result"
    }
   ],
   "source": [
    "wn.synset('dog.n.01').lemmas()"
   ]
  },
  {
   "cell_type": "markdown",
   "metadata": {},
   "source": [
    "<p>Hay\ttres sinónomos\tpara\tel\tsynset\tde\t‘dog’:\t‘dog’,\t‘domestic\tdog’\ty ‘Canis\tfamiliaris’.\tEstos aparecen\ten\tel\n",
    "ouput de\tla\túltima\tinstrucción</p>"
   ]
  },
  {
   "cell_type": "markdown",
   "metadata": {},
   "source": [
    "<p>Ejercicio:\tIntenta\tobtener\tlos\tlemas\tpara\tel\tsegundo\tsentido\tdel\t“dog”.</p>"
   ]
  },
  {
   "cell_type": "code",
   "execution_count": 13,
   "metadata": {},
   "outputs": [
    {
     "data": {
      "text/plain": [
       "[Lemma('frump.n.01.frump'), Lemma('frump.n.01.dog')]"
      ]
     },
     "execution_count": 13,
     "metadata": {},
     "output_type": "execute_result"
    }
   ],
   "source": [
    "wn.synset('dog.n.02').lemmas()"
   ]
  },
  {
   "cell_type": "markdown",
   "metadata": {},
   "source": [
    "<p>Las otras\tPart of\tSpeech\tson\tNOUN, ADJ\ty\tADV.\tUn\tsynset\tse\tidentifica\tpor\tun\tconjunto de\t3\tpartes,\t\n",
    "siguiendo\tla\tforma:\tword.pos.nn</p>"
   ]
  },
  {
   "cell_type": "code",
   "execution_count": 14,
   "metadata": {},
   "outputs": [
    {
     "data": {
      "text/plain": [
       "Synset('dog.n.01')"
      ]
     },
     "execution_count": 14,
     "metadata": {},
     "output_type": "execute_result"
    }
   ],
   "source": [
    " wn.synset('dog.n.01')\n"
   ]
  },
  {
   "cell_type": "code",
   "execution_count": 15,
   "metadata": {},
   "outputs": [
    {
     "name": "stdout",
     "output_type": "stream",
     "text": [
      "a member of the genus Canis (probably descended from the common wolf) that has been domesticated by man since prehistoric times; occurs in many breeds\n"
     ]
    }
   ],
   "source": [
    "print(wn.synset('dog.n.01').definition())"
   ]
  },
  {
   "cell_type": "code",
   "execution_count": 16,
   "metadata": {},
   "outputs": [
    {
     "data": {
      "text/plain": [
       "1"
      ]
     },
     "execution_count": 16,
     "metadata": {},
     "output_type": "execute_result"
    }
   ],
   "source": [
    "len(wn.synset('dog.n.01').examples())"
   ]
  },
  {
   "cell_type": "code",
   "execution_count": 17,
   "metadata": {},
   "outputs": [
    {
     "name": "stdout",
     "output_type": "stream",
     "text": [
      "the dog barked all night\n"
     ]
    }
   ],
   "source": [
    "print(wn.synset('dog.n.01').examples()[0])"
   ]
  },
  {
   "cell_type": "code",
   "execution_count": 18,
   "metadata": {},
   "outputs": [
    {
     "data": {
      "text/plain": [
       "[Lemma('dog.n.01.dog'),\n",
       " Lemma('dog.n.01.domestic_dog'),\n",
       " Lemma('dog.n.01.Canis_familiaris')]"
      ]
     },
     "execution_count": 18,
     "metadata": {},
     "output_type": "execute_result"
    }
   ],
   "source": [
    "wn.synset('dog.n.01').lemmas()"
   ]
  },
  {
   "cell_type": "code",
   "execution_count": 19,
   "metadata": {},
   "outputs": [
    {
     "data": {
      "text/plain": [
       "['dog', 'domestic_dog', 'Canis_familiaris']"
      ]
     },
     "execution_count": 19,
     "metadata": {},
     "output_type": "execute_result"
    }
   ],
   "source": [
    "[str(lemma.name()) for lemma in\n",
    "wn.synset('dog.n.01').lemmas()]"
   ]
  },
  {
   "cell_type": "code",
   "execution_count": 20,
   "metadata": {},
   "outputs": [
    {
     "data": {
      "text/plain": [
       "Synset('dog.n.01')"
      ]
     },
     "execution_count": 20,
     "metadata": {},
     "output_type": "execute_result"
    }
   ],
   "source": [
    "wn.lemma('dog.n.01.dog').synset()"
   ]
  },
  {
   "cell_type": "markdown",
   "metadata": {},
   "source": [
    "<h3 style=\"color:rgb(0,84,139)\">4. Relaciones entre palabras en WordNet</h3>"
   ]
  },
  {
   "cell_type": "markdown",
   "metadata": {},
   "source": [
    "<p>Ahora veamos cómo consultar las relaciones entre los synsets de WordNet. Recuerde que\n",
    "el hiperónimo se refiere al superconjunto de una entidad y el hipónimo se refiere a\n",
    "subconjuntos más específicos. </p>"
   ]
  },
  {
   "cell_type": "markdown",
   "metadata": {},
   "source": [
    "<p>Puede consultar hipernimos e hipónimos utilizando los siguientes métodos:</p>"
   ]
  },
  {
   "cell_type": "code",
   "execution_count": 21,
   "metadata": {},
   "outputs": [],
   "source": [
    "dog = wn.synset('dog.n.01')"
   ]
  },
  {
   "cell_type": "code",
   "execution_count": 22,
   "metadata": {},
   "outputs": [
    {
     "data": {
      "text/plain": [
       "[Synset('canine.n.02'), Synset('domestic_animal.n.01')]"
      ]
     },
     "execution_count": 22,
     "metadata": {},
     "output_type": "execute_result"
    }
   ],
   "source": [
    "dog.hypernyms()"
   ]
  },
  {
   "cell_type": "code",
   "execution_count": 23,
   "metadata": {},
   "outputs": [
    {
     "data": {
      "text/plain": [
       "[Synset('basenji.n.01'),\n",
       " Synset('corgi.n.01'),\n",
       " Synset('cur.n.01'),\n",
       " Synset('dalmatian.n.02'),\n",
       " Synset('great_pyrenees.n.01'),\n",
       " Synset('griffon.n.02'),\n",
       " Synset('hunting_dog.n.01'),\n",
       " Synset('lapdog.n.01'),\n",
       " Synset('leonberg.n.01'),\n",
       " Synset('mexican_hairless.n.01'),\n",
       " Synset('newfoundland.n.01'),\n",
       " Synset('pooch.n.01'),\n",
       " Synset('poodle.n.01'),\n",
       " Synset('pug.n.01'),\n",
       " Synset('puppy.n.01'),\n",
       " Synset('spitz.n.01'),\n",
       " Synset('toy_dog.n.01'),\n",
       " Synset('working_dog.n.01')]"
      ]
     },
     "execution_count": 23,
     "metadata": {},
     "output_type": "execute_result"
    }
   ],
   "source": [
    "dog.hyponyms()"
   ]
  },
  {
   "cell_type": "markdown",
   "metadata": {},
   "source": [
    "<p>Como ya vimos en la sección anterior, las formas de palabras individuales en un conjunto se\n",
    "conocen como lemas. Algunas relaciones solo se mantienen entre lemas (es decir, entre\n",
    "formas de palabras específicas) en lugar de los conjuntos de sinónimos.</p>"
   ]
  },
  {
   "cell_type": "markdown",
   "metadata": {},
   "source": [
    "<p>Por ejemplo, recupere el primer synset asociado con el adjetivo \"good\" (bueno, en inglés) e\n",
    "imprima sus lemas</p>"
   ]
  },
  {
   "cell_type": "code",
   "execution_count": 24,
   "metadata": {},
   "outputs": [],
   "source": [
    "good=wn.synset('good.a.01')"
   ]
  },
  {
   "cell_type": "code",
   "execution_count": 25,
   "metadata": {},
   "outputs": [
    {
     "data": {
      "text/plain": [
       "[Lemma('good.a.01.good')]"
      ]
     },
     "execution_count": 25,
     "metadata": {},
     "output_type": "execute_result"
    }
   ],
   "source": [
    "good.lemmas()"
   ]
  },
  {
   "cell_type": "markdown",
   "metadata": {},
   "source": [
    "<p>Solo\thay\tuna\tforma\tde\tlema\to\tpalabra\ten\teste\tsintetizador.\tPuede\trecuperar\tantónimos\tpara\tuna\tforma\tde\t\n",
    "palabra\tde\tla\tsiguiente\tmanera:</p>"
   ]
  },
  {
   "cell_type": "code",
   "execution_count": 26,
   "metadata": {},
   "outputs": [],
   "source": [
    "g0=good.lemmas()[0]"
   ]
  },
  {
   "cell_type": "code",
   "execution_count": 27,
   "metadata": {},
   "outputs": [
    {
     "data": {
      "text/plain": [
       "[Lemma('bad.a.01.bad')]"
      ]
     },
     "execution_count": 27,
     "metadata": {},
     "output_type": "execute_result"
    }
   ],
   "source": [
    "g0.antonyms()\n"
   ]
  },
  {
   "cell_type": "markdown",
   "metadata": {},
   "source": [
    "<p>Exploremos también dos relaciones más: meronym y holonym. Un merónimo de una\n",
    "palabra es una subparte o miembro. Un holónimo es un todo del cual la palabra es parte o\n",
    "miembro. Hay métodos separados en NLTK que recuperan merónimos / holónimos para las\n",
    "relaciones entre partes y miembros. P.ej:</p>"
   ]
  },
  {
   "cell_type": "code",
   "execution_count": 28,
   "metadata": {},
   "outputs": [
    {
     "data": {
      "text/plain": [
       "[Synset('flag.n.07')]"
      ]
     },
     "execution_count": 28,
     "metadata": {},
     "output_type": "execute_result"
    }
   ],
   "source": [
    "dog.part_meronyms()"
   ]
  },
  {
   "cell_type": "code",
   "execution_count": 29,
   "metadata": {},
   "outputs": [
    {
     "data": {
      "text/plain": [
       "[]"
      ]
     },
     "execution_count": 29,
     "metadata": {},
     "output_type": "execute_result"
    }
   ],
   "source": [
    "dog.member_meronyms()"
   ]
  },
  {
   "cell_type": "code",
   "execution_count": 30,
   "metadata": {},
   "outputs": [
    {
     "data": {
      "text/plain": [
       "[]"
      ]
     },
     "execution_count": 30,
     "metadata": {},
     "output_type": "execute_result"
    }
   ],
   "source": [
    "dog.part_holonyms()"
   ]
  },
  {
   "cell_type": "code",
   "execution_count": 31,
   "metadata": {},
   "outputs": [
    {
     "data": {
      "text/plain": [
       "[Synset('canis.n.01'), Synset('pack.n.06')]"
      ]
     },
     "execution_count": 31,
     "metadata": {},
     "output_type": "execute_result"
    }
   ],
   "source": [
    "dog.member_holonyms()"
   ]
  },
  {
   "cell_type": "markdown",
   "metadata": {},
   "source": [
    "<p>Este resultado dice que flag.n.07 es parte de dog.n.01 y dog.n.01 es miembro de canis.n.01\n",
    "y pack.n.06.</p>"
   ]
  },
  {
   "cell_type": "markdown",
   "metadata": {},
   "source": [
    "<p>Ejercicio: Utilizando lo que ha estudiado hasta ahora, imprima las definiciones de flag.n.07,\n",
    "canis.n.01 y pack.n.06 y vea si ve por qué estos synsets están relacionados de esta\n",
    "manera</p>"
   ]
  },
  {
   "cell_type": "code",
   "execution_count": 32,
   "metadata": {},
   "outputs": [
    {
     "name": "stdout",
     "output_type": "stream",
     "text": [
      "a conspicuously marked or shaped tail\n"
     ]
    }
   ],
   "source": [
    "print(wn.synset('flag.n.07').definition())"
   ]
  },
  {
   "cell_type": "code",
   "execution_count": 33,
   "metadata": {},
   "outputs": [
    {
     "name": "stdout",
     "output_type": "stream",
     "text": [
      "type genus of the Canidae: domestic and wild dogs; wolves; jackals\n"
     ]
    }
   ],
   "source": [
    "print(wn.synset('canis.n.01').definition())"
   ]
  },
  {
   "cell_type": "code",
   "execution_count": 34,
   "metadata": {},
   "outputs": [
    {
     "name": "stdout",
     "output_type": "stream",
     "text": [
      "a group of hunting animals\n"
     ]
    }
   ],
   "source": [
    "print(wn.synset('pack.n.06').definition())"
   ]
  },
  {
   "cell_type": "markdown",
   "metadata": {},
   "source": [
    "<p>Respuesta: Podemos observar que estas tres definiciones se relacionan ya que todas podrian definir o describir a un tipo de perro o lobo,es decir, especies de animales cazadores con una cola marcada.</p>"
   ]
  },
  {
   "cell_type": "markdown",
   "metadata": {},
   "source": [
    "<h3 style=\"color:rgb(0,84,139)\">5. Desambuguación de palabras por sentido (Word Sense Desambiguation)</h3>"
   ]
  },
  {
   "cell_type": "markdown",
   "metadata": {},
   "source": [
    "<p>Como vimos en las clases, la tarea de desambiguación del sentido de las palabras es tomar\n",
    "una palabra en el contexto de la oración y mapearla a uno de los sentidos de la palabra, por\n",
    "ejemplo. asignar a un synset en WordNet.</p>"
   ]
  },
  {
   "cell_type": "markdown",
   "metadata": {},
   "source": [
    "<p>Estudiamos dos enfoques, un sistema de clasificación supervisado donde las palabras de\n",
    "contexto entran como feautres(características) y el otro es el algoritmo de Lesk que utilizó el\n",
    "recurso del diccionario para la desambiguación.</p>"
   ]
  },
  {
   "cell_type": "markdown",
   "metadata": {},
   "source": [
    "<p>Ejercicio: recuerde el algoritmo de Lesk. ¿Cuáles fueron los pasos?\n",
    "Usamos el siguiente ejemplo en la clase, intentemos con el mismo.</p>"
   ]
  },
  {
   "cell_type": "markdown",
   "metadata": {},
   "source": [
    "<p style=\"color:green\">“The\tbank\tcan\tguarantee\tdeposits\twill\teventually\tcover\tfuture\ttuition\tcosts\tbecause\tit\tinvests\tin\t\n",
    "adjustable- rate\tmortgage\tsecurities.”\n",
    "</p>"
   ]
  },
  {
   "cell_type": "markdown",
   "metadata": {},
   "source": [
    "<p>(El banco puede garantizar que los depósitos eventualmente cubrirán los costos de\n",
    "matrícula futuros porque invierte en valores hipotecarios de tasa ajustable.)</p>"
   ]
  },
  {
   "cell_type": "markdown",
   "metadata": {},
   "source": [
    "<p>Queremos eliminar la ambigüedad de “bank” en este contexto</p>"
   ]
  },
  {
   "cell_type": "markdown",
   "metadata": {},
   "source": [
    "<p>Ejercicio: ¿Cuántos sentidos crees que tiene la palabra bank? .</p>"
   ]
  },
  {
   "cell_type": "markdown",
   "metadata": {},
   "source": [
    "<p>Use lo que ha estudiado hasta ahora para recuperar todos los synsets asociados con el\n",
    "\"bank\" con el POS de sustantivo. ¿Cuántos sentidos sustantivos de \"banco\" hay en\n",
    "WordNet? .</p>"
   ]
  },
  {
   "cell_type": "markdown",
   "metadata": {},
   "source": [
    "<p style=\"color:red\">Respuesta: </p>"
   ]
  },
  {
   "cell_type": "code",
   "execution_count": 35,
   "metadata": {},
   "outputs": [
    {
     "data": {
      "text/plain": [
       "[Synset('bank.n.01'),\n",
       " Synset('depository_financial_institution.n.01'),\n",
       " Synset('bank.n.03'),\n",
       " Synset('bank.n.04'),\n",
       " Synset('bank.n.05'),\n",
       " Synset('bank.n.06'),\n",
       " Synset('bank.n.07'),\n",
       " Synset('savings_bank.n.02'),\n",
       " Synset('bank.n.09'),\n",
       " Synset('bank.n.10')]"
      ]
     },
     "execution_count": 35,
     "metadata": {},
     "output_type": "execute_result"
    }
   ],
   "source": [
    "wn.synsets('bank', pos=wn.NOUN)"
   ]
  },
  {
   "cell_type": "code",
   "execution_count": 36,
   "metadata": {},
   "outputs": [
    {
     "data": {
      "text/plain": [
       "10"
      ]
     },
     "execution_count": 36,
     "metadata": {},
     "output_type": "execute_result"
    }
   ],
   "source": [
    "len(wn.synsets('bank', pos=wn.NOUN))"
   ]
  },
  {
   "cell_type": "markdown",
   "metadata": {},
   "source": [
    "<p>¿Qué synset es el sentido correcto para la palabra en el contexto de la oración anterior?</p>"
   ]
  },
  {
   "cell_type": "markdown",
   "metadata": {},
   "source": [
    "<p style=\"color:red\">Respuesta: </p>"
   ]
  },
  {
   "cell_type": "markdown",
   "metadata": {},
   "source": [
    "<p>En mi opinion, la definicion mas acorde que le da sentido a la palabra \"bank\" según este texto, es la definicion del Synset 'bank.n.02'"
   ]
  },
  {
   "cell_type": "code",
   "execution_count": 39,
   "metadata": {},
   "outputs": [
    {
     "name": "stdout",
     "output_type": "stream",
     "text": [
      "a financial institution that accepts deposits and channels the money into lending activities\n"
     ]
    }
   ],
   "source": [
    "print(wn.synset('bank.n.02').definition())"
   ]
  },
  {
   "cell_type": "markdown",
   "metadata": {},
   "source": [
    "<p>Ahora veamos qué nos da el algoritmo Lesk.</p>"
   ]
  },
  {
   "cell_type": "code",
   "execution_count": 40,
   "metadata": {},
   "outputs": [
    {
     "name": "stdout",
     "output_type": "stream",
     "text": [
      "Synset('bank.n.05')\n"
     ]
    }
   ],
   "source": [
    "from nltk.wsd import lesk\n",
    "from nltk import word_tokenize\n",
    "S = \"The bank can guarantee deposits will eventually cover future tuition costs because it invests in adjustable rate mortgage securities.\"\n",
    "S_tok = word_tokenize(S)\n",
    "print(lesk(S_tok, 'bank', 'n'))\n"
   ]
  },
  {
   "cell_type": "markdown",
   "metadata": {},
   "source": [
    "<p>Ejercicio: ¿Qué synset fue producido por Lesk? <p>"
   ]
  },
  {
   "cell_type": "markdown",
   "metadata": {},
   "source": [
    "<p style=\"color:red\">Respuesta: </p>"
   ]
  },
  {
   "cell_type": "markdown",
   "metadata": {},
   "source": [
    "<p>El Synset producido por Lesk fue el Synset 'bank.n.05', con la siguiente definicion:"
   ]
  },
  {
   "cell_type": "code",
   "execution_count": 41,
   "metadata": {},
   "outputs": [
    {
     "name": "stdout",
     "output_type": "stream",
     "text": [
      "a supply or stock held in reserve for future use (especially in emergencies)\n"
     ]
    }
   ],
   "source": [
    "print(wn.synset('bank.n.05').definition())"
   ]
  },
  {
   "cell_type": "markdown",
   "metadata": {},
   "source": [
    "<p>¿Entiendes por qué tienes esta predicción? Veamos cómo NLTK está implementando Lesk.\n",
    "Hagamos algunos diagnósticos.</p>"
   ]
  },
  {
   "cell_type": "code",
   "execution_count": 42,
   "metadata": {},
   "outputs": [],
   "source": [
    "l = word_tokenize((wn.synset('bank.n.05').definition()))"
   ]
  },
  {
   "cell_type": "code",
   "execution_count": 43,
   "metadata": {},
   "outputs": [],
   "source": [
    "m = word_tokenize((wn.synset('bank.n.02').definition()))\n"
   ]
  },
  {
   "cell_type": "code",
   "execution_count": 44,
   "metadata": {},
   "outputs": [],
   "source": [
    "k = set(S_tok)"
   ]
  },
  {
   "cell_type": "code",
   "execution_count": 45,
   "metadata": {},
   "outputs": [
    {
     "data": {
      "text/plain": [
       "{'future', 'in'}"
      ]
     },
     "execution_count": 45,
     "metadata": {},
     "output_type": "execute_result"
    }
   ],
   "source": [
    "k.intersection(l)"
   ]
  },
  {
   "cell_type": "code",
   "execution_count": 46,
   "metadata": {},
   "outputs": [
    {
     "data": {
      "text/plain": [
       "{'deposits'}"
      ]
     },
     "execution_count": 46,
     "metadata": {},
     "output_type": "execute_result"
    }
   ],
   "source": [
    "k.intersection(m)"
   ]
  },
  {
   "cell_type": "markdown",
   "metadata": {},
   "source": [
    "<p>¿Ves ahora por qué tienes esta predicción?\n",
    "¿Qué cambios, de haber alguno, sugeriría para la correspondencia implementada por NLTK?</p>"
   ]
  },
  {
   "cell_type": "markdown",
   "metadata": {},
   "source": [
    "<p>Ejercicio: para cada ejemplo, a continuación descubra el sentido correcto de WordNet según\n",
    "su criterio. Puede usar la búsqueda en línea de WordNet para navegar a través de los\n",
    "sentidos. http://wordnetweb.princeton.edu/perl/webwn.</p>"
   ]
  },
  {
   "cell_type": "markdown",
   "metadata": {},
   "source": [
    "<p style=\"color:green\">Ejemplo 1: I\twent\tto\tthe\tbank\tto\tdeposit\tsome\tmoney\n",
    "</p>"
   ]
  },
  {
   "cell_type": "markdown",
   "metadata": {},
   "source": [
    "<p>El sentido correcto del WordNet de \"bank\" en este caso seria el del Synset 'bank.n.02'"
   ]
  },
  {
   "cell_type": "code",
   "execution_count": 59,
   "metadata": {},
   "outputs": [
    {
     "data": {
      "text/plain": [
       "'a financial institution that accepts deposits and channels the money into lending activities'"
      ]
     },
     "execution_count": 59,
     "metadata": {},
     "output_type": "execute_result"
    }
   ],
   "source": [
    "wn.synset('bank.n.02').definition()"
   ]
  },
  {
   "cell_type": "markdown",
   "metadata": {},
   "source": [
    "<p style=\"color:green\">Ejemplo 2: She\tcreated\ta\tbig\tmess\tof\tthe\tbirthday\tcake.\n",
    "</p>"
   ]
  },
  {
   "cell_type": "markdown",
   "metadata": {},
   "source": [
    "<p>El sentido correcto para el WordNet \"mess\" en este caso seria el del Synset 'mess.n.03'"
   ]
  },
  {
   "cell_type": "code",
   "execution_count": 48,
   "metadata": {},
   "outputs": [
    {
     "data": {
      "text/plain": [
       "'soft semiliquid food'"
      ]
     },
     "execution_count": 48,
     "metadata": {},
     "output_type": "execute_result"
    }
   ],
   "source": [
    "wn.synset('mess.n.03').definition()"
   ]
  },
  {
   "cell_type": "markdown",
   "metadata": {},
   "source": [
    "<p style=\"color:green\">Ejemplo 3: In\tthe\tinterest\tof\tyour\tsafety,\tplease\twear\tyour\tseatbelt.\n",
    "</p>"
   ]
  },
  {
   "cell_type": "markdown",
   "metadata": {},
   "source": [
    "<p>El sentido correcto para el WordNet \"wear\" en este caso seria el del Synset 'wear.v.01'</p>"
   ]
  },
  {
   "cell_type": "code",
   "execution_count": 57,
   "metadata": {},
   "outputs": [
    {
     "data": {
      "text/plain": [
       "\"put clothing on one's body\""
      ]
     },
     "execution_count": 57,
     "metadata": {},
     "output_type": "execute_result"
    }
   ],
   "source": [
    "wn.synset('wear.v.09').definition()"
   ]
  },
  {
   "cell_type": "markdown",
   "metadata": {},
   "source": [
    "<p>Luego use el algoritmo de Lesk para desambiguar las palabras. ¿Cuál es la precisión de la\n",
    "implementación de Lesk de NLTK en estas oraciones?</p>"
   ]
  },
  {
   "cell_type": "markdown",
   "metadata": {},
   "source": [
    "<p>Ejemplo 1:</p>"
   ]
  },
  {
   "cell_type": "code",
   "execution_count": 49,
   "metadata": {},
   "outputs": [
    {
     "name": "stdout",
     "output_type": "stream",
     "text": [
      "Synset('savings_bank.n.02')\n"
     ]
    }
   ],
   "source": [
    "S_1 = \"I went to the bank to deposit some money\"\n",
    "S_tok_1 = word_tokenize(S_1)\n",
    "print(lesk(S_tok_1, 'bank', 'n'))"
   ]
  },
  {
   "cell_type": "markdown",
   "metadata": {},
   "source": [
    "<p>En este caso, el algoritmo fallo, "
   ]
  },
  {
   "cell_type": "markdown",
   "metadata": {},
   "source": [
    "<p>Ejemplo 2:</p>"
   ]
  },
  {
   "cell_type": "code",
   "execution_count": 54,
   "metadata": {},
   "outputs": [
    {
     "name": "stdout",
     "output_type": "stream",
     "text": [
      "Synset('mess.n.04')\n"
     ]
    }
   ],
   "source": [
    "S_2 = \"She created a big mess of the birthday cake\"\n",
    "S_tok_2 = word_tokenize(S_2)\n",
    "print(lesk(S_tok_2, 'mess', 'n'))"
   ]
  },
  {
   "cell_type": "markdown",
   "metadata": {},
   "source": [
    "<p>En este caso, el algoritmo fallo, no acerto con el esperado.</p>"
   ]
  },
  {
   "cell_type": "markdown",
   "metadata": {},
   "source": [
    "<p>Ejemplo 3:</p>"
   ]
  },
  {
   "cell_type": "code",
   "execution_count": 55,
   "metadata": {},
   "outputs": [
    {
     "name": "stdout",
     "output_type": "stream",
     "text": [
      "Synset('wear.v.05')\n"
     ]
    }
   ],
   "source": [
    "S_3 = \"She created a big mess of the birthday cake\"\n",
    "S_tok_3 = word_tokenize(S_3)\n",
    "print(lesk(S_tok_2, 'wear', 'v'))"
   ]
  },
  {
   "cell_type": "markdown",
   "metadata": {},
   "source": [
    "<p>En este caso el algoritmo fallo, nos dio el Synset numero 5</p>"
   ]
  },
  {
   "cell_type": "markdown",
   "metadata": {},
   "source": [
    "<h3 style=\"color:rgb(0,84,139)\">6. Un poco más allá</h3>"
   ]
  },
  {
   "cell_type": "markdown",
   "metadata": {},
   "source": [
    "<p>A lemma form of a word groups inflections of a word together. ie. ‘walked’, ‘walking’, ‘walks’,\n",
    "‘walk’ are all inflections or morphological variants of the word ‘walk’. NLTK has facility to\n",
    "lemmatize words.</p>"
   ]
  },
  {
   "cell_type": "markdown",
   "metadata": {},
   "source": [
    "<p>Si ya estás cómodo con el contenido anterior, podés desafiarte con este ejercicio. Este\n",
    "ejercicio tiene un “final abierto”.</p>"
   ]
  },
  {
   "cell_type": "markdown",
   "metadata": {},
   "source": [
    "<p>Ejercicio: un lemma de una palabra agrupa las inflexiones de una palabra. Es decir,\n",
    "‘walked’, ‘walking’, ‘walks’, ‘walk’ son todas inflexiones o variantes morfológicas de la\n",
    "palabra walk (\"caminar\"). NLTK tiene capacidad para lematizar palabras.\n",
    "</p>"
   ]
  },
  {
   "cell_type": "code",
   "execution_count": 51,
   "metadata": {},
   "outputs": [
    {
     "data": {
      "text/plain": [
       "'dog'"
      ]
     },
     "execution_count": 51,
     "metadata": {},
     "output_type": "execute_result"
    }
   ],
   "source": [
    "from nltk.stem import WordNetLemmatizer\n",
    "wnLemmatizer = WordNetLemmatizer()\n",
    "wnLemmatizer.lemmatize('dogs', 'n') "
   ]
  },
  {
   "cell_type": "code",
   "execution_count": 52,
   "metadata": {},
   "outputs": [
    {
     "data": {
      "text/plain": [
       "'walk'"
      ]
     },
     "execution_count": 52,
     "metadata": {},
     "output_type": "execute_result"
    }
   ],
   "source": [
    "wnLemmatizer.lemmatize('walking','v')"
   ]
  },
  {
   "cell_type": "markdown",
   "metadata": {},
   "source": [
    "<p>Aquí informamos al lematizador si la palabra dada es un sustantivo o un verbo. La\n",
    "configuración predeterminada para el método es un sustantivo, es decir. si corre sin\n",
    "argumentos, el lema será correcto para los sustantivos pero quizás no para los verbos.</p>"
   ]
  },
  {
   "cell_type": "code",
   "execution_count": 53,
   "metadata": {},
   "outputs": [
    {
     "data": {
      "text/plain": [
       "'dog'"
      ]
     },
     "execution_count": 53,
     "metadata": {},
     "output_type": "execute_result"
    }
   ],
   "source": [
    "wnLemmatizer.lemmatize('dogs')"
   ]
  },
  {
   "cell_type": "markdown",
   "metadata": {},
   "source": [
    "<p>¿Podrías mejorar el algoritmo de Lesk con un lematizador? Si es así, ¿podrías escribir una\n",
    "función de match, que tome dos cadenas y devuelva las palabras coincidentes entre ellas?\n",
    "Queremos que las coincidencias(matches) sean útiles para un algoritmo como Lesk.\n",
    "¿Quizás también necesites usar un etiquetador POS? Podes usar un etiquetador POS\n",
    "incorporado en WordNet.</p>"
   ]
  },
  {
   "cell_type": "code",
   "execution_count": null,
   "metadata": {},
   "outputs": [],
   "source": []
  },
  {
   "cell_type": "code",
   "execution_count": null,
   "metadata": {},
   "outputs": [],
   "source": []
  }
 ],
 "metadata": {
  "kernelspec": {
   "display_name": "Python 3",
   "language": "python",
   "name": "python3"
  },
  "language_info": {
   "codemirror_mode": {
    "name": "ipython",
    "version": 3
   },
   "file_extension": ".py",
   "mimetype": "text/x-python",
   "name": "python",
   "nbconvert_exporter": "python",
   "pygments_lexer": "ipython3",
   "version": "3.7.3"
  }
 },
 "nbformat": 4,
 "nbformat_minor": 2
}
